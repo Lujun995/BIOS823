{
 "cells": [
  {
   "cell_type": "markdown",
   "id": "genetic-senior",
   "metadata": {},
   "source": [
    "# Nim\n",
    "[Problem 301](https://projecteuler.net/problem=301)\n",
    "*Solved By 6,245*\n",
    "<p>Lucas Zhang</p>\n",
    "<p><dfn>Nim</dfn> is a game played with heaps of stones, where two players take it in turn to remove any number of stones from any heap until no stones remain.</p>\n",
    "\n",
    "<p>We'll consider the three-heap normal-play version of Nim, which works as follows:</p>\n",
    "<ul>\n",
    "<li>At the start of the game there are three heaps of stones.</li>\n",
    "<li>On each player's turn, the player may remove any positive number of stones from any single heap.</li>\n",
    "<li>The first player unable to move (because no stones remain) loses.</li>\n",
    "</ul>\n",
    "\n",
    "<p>If $(n_1,n_2,n_3)$ indicates a Nim position consisting of heaps of size $n_1$, $n_2$, and $n_3$, then there is a simple function, which you may look up or attempt to deduce for yourself, $X(n_1,n_2,n_3)$ that returns:</p>\n",
    "\n",
    "<ul>\n",
    "<li>zero if, with perfect strategy, the player about to move will eventually lose; or</li>\n",
    "<li>non-zero if, with perfect strategy, the player about to move will eventually win.</li>\n",
    "</ul>\n",
    "\n",
    "<p>For example $X(1,2,3) = 0$ because, no matter what the current player does, the opponent can respond with a move that leaves two heaps of equal size, at which point every move by the current player can be mirrored by the opponent until no stones remain; so the current player loses. To illustrate:</p>\n",
    "\n",
    "<ul>\n",
    "<li>current player moves to $(1,2,1)$</li>\n",
    "<li>opponent moves to $(1,0,1)$</li>\n",
    "<li>current player moves to $(0,0,1)$</li>\n",
    "<li>opponent moves to $(0,0,0)$, and so wins.</li>\n",
    "</ul>\n",
    "\n",
    "<p>For how many positive integers $n \\le 2^{30}$ does $X(n,2n,3n) = 0$ ?</p>\n",
    "\n",
    "\n",
    "\n",
    "<p><b>Solution</b>: To solve the problem, we first need to define state <b><i>S</i></b>: Write the number of stones in each heap in binary. If the number of each digits add up to 0 or 2, we called this is state <b><i>S</i></b>. For example, $(1,2,3)$ is in <b><i>S</i></b> because their binary forms are </p>\n",
    "<p>$1 = 0 1$ </p>\n",
    "<p>$2 = 1 0$ </p>\n",
    "<p>$3 = 1 1$ </p>\n",
    "<p>and they sum up to $2 2$. Moreover, $(0,0,0)$ is also in <b><i>S</i></b>. For another example, $(3,6,9)$ is not in state <b><i>S</i></b>, because </p>\n",
    "<p>$3 = 0 0 1 1$ </p>\n",
    "<p>$6 = 0 1 1 0$ </p>\n",
    "<p>$9 = 1 0 0 1$ </p>\n",
    "<p>and they sum up to $1 1 2 2$. </p>\n",
    "<p>According to <a href=\"https://doi.org/10.2307/1967631\">Bouton</a> (1901-1902), <b>(i)</b> All states <b><i>S</i></b> will be diminished if we move any rocks from one heap. This is because given the number of rocks in the other two heaps, the number that establishes <b><i>S</i></b> is unique. <b>(ii)</b> If <b><i>S</i></b> is diminished in the first step, it can always be re-established in the next step. </p>\n",
    "<p>Following these two theorems, we can show that if one player starts with <b><i>S</i></b>, he or she have to diminish it in the move and his or her opponent should always re-established <b><i>S</i></b> in the next step by \"perfect strategy\". Therefore, the player will always start his or her move with <b><i>S</i></b>, and the number of rocks in heaps will eventually go to $(0,0,0)$. Namely, the player starts with $(0,0,0)$ and loses. Otherwise, if one player start with a non-<b><i>S</i></b> state, he or she should establish <b><i>S</i></b> in his or her movement, and his or her opponent will always start the game with <b><i>S</i></b> and enventually lose. </p>\n",
    "\n",
    "<p>We may check how many positive integers $n \\le 2^{30}$ would initially establish <b><i>S</i></b>. However, it can be computationally hard. By observation of the number combination of $(n,2n,3n)$, we can identify that if we have in its binary form $2n$ equals to adding one 0 at the of $n$. For example, $3 = 0 0 1 1$ and $6 = 0 1 1 0$. Note that if we add a 0 at the end of 3, it becomes 6. Therefore, if we want the same digits in the three numbers add up to 0 or 2, the digits in $n$ have to be $\\cdots 0 \\cdots$ or $\\cdots 01 \\cdots$. The corresponding digits in $2n$ are $\\cdots 0 \\cdots$ or $\\cdots 10 \\cdots$, and the corresponding digits in $3n$ are $\\cdots 0 \\cdots$ or $\\cdots 11 \\cdots$.<p/>\n",
    "<p>Therefore, we can use either $\\cdots 0 \\cdots$ or $\\cdots 10 \\cdots$ to fill the 31 digits of the $2^{30}$. As the three piles of rock contain n, 2n, 3n rock, we must obeserve 11 10 01 sequence or sequesetive 0s. Supposing we have $f(a)$ methods to fill for $a$ digits, we have $f(a) = f(a-1) + f(a-2)$. Thus, this problem becomes to solve $f(31)$, excluding $n = 0$ but including $n = 2^{30}$.<\\p>\n",
    "<p><b>Reference</b>: Charles L. Bouton. Nim, A Game with a Complete Mathematical Theory. <i>Annals of Mathematics</i>, Second Series, Vol. 3, No. 1/4 (1901 - 1902), pp. 35-39.</p>"
   ]
  },
  {
   "cell_type": "code",
   "execution_count": 3,
   "id": "approximate-advice",
   "metadata": {},
   "outputs": [
    {
     "name": "stdout",
     "output_type": "stream",
     "text": [
      "2178309\n"
     ]
    }
   ],
   "source": [
    "def f(n):\n",
    "    \"\"\"This function is designed to solve Nim problem (problem 301) in the ProjectEuler.\n",
    "    Args:\n",
    "        n: related to the indicator to 2 given in the problem. n = indicator + 1\n",
    "    Return:\n",
    "        return the number of positive integers that always makes the first player to \n",
    "        lose the game.\n",
    "    \"\"\"\n",
    "    if n == 1: return 1 \n",
    "    elif n == 2: return 2\n",
    "    else: return f(n-1)+f(n-2)\n",
    "\n",
    "print(f(31) - 1 + 1) #2178309, -1 for excluding 0, +1 for including 2^30"
   ]
  },
  {
   "cell_type": "code",
   "execution_count": null,
   "id": "future-location",
   "metadata": {},
   "outputs": [],
   "source": []
  }
 ],
 "metadata": {
  "kernelspec": {
   "display_name": "Python 3",
   "language": "python",
   "name": "python3"
  },
  "language_info": {
   "codemirror_mode": {
    "name": "ipython",
    "version": 3
   },
   "file_extension": ".py",
   "mimetype": "text/x-python",
   "name": "python",
   "nbconvert_exporter": "python",
   "pygments_lexer": "ipython3",
   "version": "3.7.9"
  }
 },
 "nbformat": 4,
 "nbformat_minor": 5
}

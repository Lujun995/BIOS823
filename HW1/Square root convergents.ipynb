{
 "cells": [
  {
   "cell_type": "markdown",
   "id": "hydraulic-investor",
   "metadata": {},
   "source": [
    "# Square root convergents\n",
    "[Problem 57](https://projecteuler.net/problem=57)\n",
    "*Solved By 41,784*\n",
    "<p>Lucas Zhang</p>\n",
    "\n",
    "<p>It is possible to show that the square root of two can be expressed as an infinite continued fraction.</p>\n",
    "<p><center>$\\sqrt 2 =1+ \\frac 1 {2+ \\frac 1 {2 +\\frac 1 {2+ \\dots}}}$</center></p>\n",
    "<p>By expanding this for the first four iterations, we get:</p>\n",
    "<p><center>$1 + \\frac 1 2 = \\frac  32 = 1.5$<br />\n",
    "$1 + \\frac 1 {2 + \\frac 1 2} = \\frac 7 5 = 1.4$<br />\n",
    "$1 + \\frac 1 {2 + \\frac 1 {2+\\frac 1 2}} = \\frac {17}{12} = 1.41666 \\dots$<br />\n",
    "$1 + \\frac 1 {2 + \\frac 1 {2+\\frac 1 {2+\\frac 1 2}}} = \\frac {41}{29} = 1.41379 \\dots$<br /></center></p>\n",
    "<p>The next three expansions are $\\frac {99}{70}$, $\\frac {239}{169}$, and $\\frac {577}{408}$, but the eighth expansion, $\\frac {1393}{985}$, is the first example where the number of digits in the numerator exceeds the number of digits in the denominator.</p>\n",
    "<p>In the first one-thousand expansions, how many fractions contain a numerator with more digits than the denominator?</p>\n",
    "\n",
    "**Solution**: \n",
    "<p>By observation of the construction of this number sequence, we can identify that a new denominator come from the sum of its prior numerator and denominator, while a new numerator comes from the sum of the prior denominator and the new denominator. For example, for the first fraction, we have $\\frac {3}{2}$. For the second fraction, we have $\\frac {2+(3+2)}{3+2}$.</p>\n",
    "\n",
    "Also because of this construction, by [the Euclidean algorithm](https://en.wikipedia.org/wiki/Euclidean_algorithm), we can show that all the pairs of numerators and denominators in this sequence are coprime, i.e. no common divisor greater than 1 exists between the numerator and the denaminator. For example, regarding the third fraction $\\frac {17}{12}$, <br />\n",
    "<p><center>$17 = 12+5$</center></p>\n",
    "<p><center>$12 = 5 \\times 2 + 2 = 5 + 7$</center></p>\n",
    "<p><center>$5 = 2 \\times 2 + 1 = 2+3$</center></p>\n",
    "Therefore, the greatest common divisor between 17 and 12 is 1. We can also identify the numerators and denominators of the first and the second fractions in this process of Euclidean algorithm. It follows that all the numerators and denominators in fractions in the sequence have a greatest common divisor of 1 by mathematical induction. Namely, all the pairs of numerators and denominators in this sequence are coprime so we do not need to consider the reduction of the fractions. Therefore, we can use data types of double instead of a very long integer as it provides sufficient precision. "
   ]
  },
  {
   "cell_type": "code",
   "execution_count": 1,
   "id": "reduced-glenn",
   "metadata": {},
   "outputs": [
    {
     "name": "stdout",
     "output_type": "stream",
     "text": [
      "153\n"
     ]
    }
   ],
   "source": [
    "def solve_square_root_convergents():\n",
    "    \"\"\"This function is a wrapper function designed to solve the Square root convergents \n",
    "    problem (problem 57) in the ProjectEuler.\n",
    "    \n",
    "    return:\n",
    "        count: the number of fractions contain a numerator with more digits than the \n",
    "        denominator in the first one-thousand expansions.\n",
    "    \"\"\"\n",
    "    import math\n",
    "    a = 2 #the first denominator\n",
    "    b = 3 #the first numerator\n",
    "    c = 0\n",
    "    d = 0\n",
    "    count = 0 #the number of fractions contain a numerator with more digits than the denominator\n",
    "    for i in range(2,1001):\n",
    "        c = a + b #the next denominator\n",
    "        d = c + a #the next numerator\n",
    "        a = c\n",
    "        b = d\n",
    "        if math.floor(math.log10(b)) - math.floor(math.log10(a)) == 1 :\n",
    "            #if the numerator have more digits than the denominator\n",
    "            count += 1\n",
    "        if i == 800 : #reduce the number to avoid reaching the limits of double\n",
    "            b= b/1e100\n",
    "            a= a/1e100\n",
    "    return count\n",
    "\n",
    "print(solve_square_root_convergents()) #153"
   ]
  },
  {
   "cell_type": "code",
   "execution_count": null,
   "id": "waiting-cooler",
   "metadata": {},
   "outputs": [],
   "source": []
  }
 ],
 "metadata": {
  "kernelspec": {
   "display_name": "Python 3",
   "language": "python",
   "name": "python3"
  },
  "language_info": {
   "codemirror_mode": {
    "name": "ipython",
    "version": 3
   },
   "file_extension": ".py",
   "mimetype": "text/x-python",
   "name": "python",
   "nbconvert_exporter": "python",
   "pygments_lexer": "ipython3",
   "version": "3.7.9"
  }
 },
 "nbformat": 4,
 "nbformat_minor": 5
}

{
 "cells": [
  {
   "cell_type": "markdown",
   "id": "greater-villa",
   "metadata": {},
   "source": [
    "# Reciprocal cycles\n",
    "[Problem 26](https://projecteuler.net/problem=26)\n",
    "*Solved By 84,776*\n",
    "<p>Lucas Zhang</p>\n",
    "<p>A unit fraction contains 1 in the numerator. The decimal representation of the unit fractions with denominators 2 to 10 are given:</p>\n",
    "<blockquote>\n",
    "<table><tr><td><sup>1</sup>/<sub>2</sub></td><td>= </td><td>0.5</td>\n",
    "</tr><tr><td><sup>1</sup>/<sub>3</sub></td><td>= </td><td>0.(3)</td>\n",
    "</tr><tr><td><sup>1</sup>/<sub>4</sub></td><td>= </td><td>0.25</td>\n",
    "</tr><tr><td><sup>1</sup>/<sub>5</sub></td><td>= </td><td>0.2</td>\n",
    "</tr><tr><td><sup>1</sup>/<sub>6</sub></td><td>= </td><td>0.1(6)</td>\n",
    "</tr><tr><td><sup>1</sup>/<sub>7</sub></td><td>= </td><td>0.(142857)</td>\n",
    "</tr><tr><td><sup>1</sup>/<sub>8</sub></td><td>= </td><td>0.125</td>\n",
    "</tr><tr><td><sup>1</sup>/<sub>9</sub></td><td>= </td><td>0.(1)</td>\n",
    "</tr><tr><td><sup>1</sup>/<sub>10</sub></td><td>= </td><td>0.1</td>\n",
    "</tr></table></blockquote>\n",
    "<p>Where 0.1(6) means 0.166666..., and has a 1-digit recurring cycle. It can be seen that $\\frac {1}{7}$ has a 6-digit recurring cycle.</p>\n",
    "<p>Find the value of $d < 1000$ for which $\\frac {1}{d}$ contains the longest recurring cycle in its decimal fraction part.</p>\n",
    "\n",
    "**Solution**:\n",
    "<p>The length of the reciporal cycles equals to the length of remainder cycles. Namely, the number of steps that remainders take to get back to a remainder that previously occurs. Taking $\\frac {1}{7}$ as an example, its remainders are </p>\n",
    "<center>$10 \\div 7 = 1 \\cdots 3$, <\\center>\n",
    "<center>$30 \\div 7 = 4 \\cdots 2$..., <\\center>\n",
    "<p>and the remainders go as $ 3 \\Rightarrow 2 \\Rightarrow 6 \\Rightarrow 4 \\Rightarrow 5 \\Rightarrow 1 \\Rightarrow 3 ...$. Therefore, we can count the length of remainder cycles to calculate the length of the reciporal cycles.</p>\n",
    "<p>In addition, By the definition of a remainder $r$, $r$ is always less than the dividor $d$. Therefore, $d$ can only have $d$ different remainders, <i>i.e.</i> $0, 1, ..., d - 1$. Accoringly, by <a href=\"https://en.wikipedia.org/wiki/Pigeonhole_principle\">the pigeonhole principle</a>, when the length $n$ of the reciprocal cycles of $d$ would be shorter than $d$. Ohterwise, for any $n^\\prime$ > $d$, we can always identify a digit equal to a previous remainder so the remainders enter a cycle.</p>"
   ]
  },
  {
   "cell_type": "code",
   "execution_count": 3,
   "id": "tested-canadian",
   "metadata": {},
   "outputs": [
    {
     "data": {
      "text/plain": [
       "983"
      ]
     },
     "execution_count": 3,
     "metadata": {},
     "output_type": "execute_result"
    }
   ],
   "source": [
    "def solve_reciprocal_cycles():\n",
    "    \"\"\"\"This is a wrapper function designed to solve Problem 26 (Reciprocal cycles) \n",
    "    in the ProjectEuler.\n",
    "    Return:\n",
    "        d_n_max: return the number of the divisor (less than 1000) that have the longest\n",
    "        cycle in its reciprocal.\n",
    "    \"\"\"\n",
    "    n_max = 0 #the largest reciporal cycles\n",
    "    d_n_max = 0 #the number that has the largest reciporal cycles\n",
    "    for d in range(999, 0, -1) : #d is a divior ranging 999 - 1\n",
    "        if d<=n_max : break \n",
    "            #the cycle length of d is always smaller than d;\n",
    "            #therefore, if i<=n_max, cycle length < n_max\n",
    "        resids = [0]*(d+1)\n",
    "            #initialize a list for the remaiders of d.\n",
    "            #there can not be more than (d+1) different remainders.\n",
    "        r = 1 #set the first remainder to 1\n",
    "        t = 0 #index for current position for the remainder array\n",
    "        while (r not in resids[0:max(t-2,0)]) or (t <= 1):\n",
    "            if r == 0: break\n",
    "            while r < d: r = r*10 #enlarge the remainder until becoming greater than d\n",
    "            r = r % d # calculate the residual\n",
    "            resids[t] = r \n",
    "            t += 1\n",
    "        t0 = resids.index(r)\n",
    "        n = (t - 1) - t0 #length of Reciprocal cycles for i\n",
    "        if n > n_max: \n",
    "            n_max = n\n",
    "            d_n_max = d\n",
    "    return d_n_max\n",
    "solve_reciprocal_cycles() #983"
   ]
  },
  {
   "cell_type": "code",
   "execution_count": null,
   "id": "amended-schedule",
   "metadata": {},
   "outputs": [],
   "source": []
  }
 ],
 "metadata": {
  "kernelspec": {
   "display_name": "Python 3",
   "language": "python",
   "name": "python3"
  },
  "language_info": {
   "codemirror_mode": {
    "name": "ipython",
    "version": 3
   },
   "file_extension": ".py",
   "mimetype": "text/x-python",
   "name": "python",
   "nbconvert_exporter": "python",
   "pygments_lexer": "ipython3",
   "version": "3.7.9"
  }
 },
 "nbformat": 4,
 "nbformat_minor": 5
}
